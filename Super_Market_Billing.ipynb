{
 "cells": [
  {
   "cell_type": "markdown",
   "id": "2d1926af-18ad-47ac-bd69-5d68045dd792",
   "metadata": {},
   "source": [
    "# Super Market Billing"
   ]
  },
  {
   "cell_type": "code",
   "execution_count": 96,
   "id": "26e7c59a-1e24-4d44-bbc6-6f55d2acbeac",
   "metadata": {},
   "outputs": [],
   "source": [
    "#empty lists for Super Market\n",
    "cart=[]"
   ]
  },
  {
   "cell_type": "code",
   "execution_count": 97,
   "id": "9ebcdeef-c644-456d-9ed1-16edfd6d83c6",
   "metadata": {},
   "outputs": [],
   "source": [
    "#list of groceries\n",
    "grocery_items = {\n",
    "    \"rice (1kg)\": 6,\n",
    "    \"wheat flour (1kg)\": 5,\n",
    "    \"toor dal (1kg)\": 9,\n",
    "    \"moong dal (1kg)\": 10,\n",
    "    \"sugar (1kg)\": 4,\n",
    "    \"salt (1kg)\": 2,\n",
    "    \"turmeric powder (100g)\": 5,\n",
    "    \"red chilli powder (100g)\": 3,\n",
    "    \"coriander powder (100g)\": 8,\n",
    "    \"cooking oil (1L)\": 12,\n",
    "    \"milk (1L)\": 5,\n",
    "    \"curd (500g)\": 3,\n",
    "    \"tea powder (250g)\": 9,\n",
    "    \"coffee powder (1kg)\": 14,\n",
    "    \"onions (1kg)\": 3,\n",
    "    \"potatoes (1kg)\": 5,\n",
    "    \"tomatoes (1kg)\": 3,\n",
    "    \"green chillies (1kg)\": 5,\n",
    "    \"garlic (1kg)\": 4,\n",
    "    \"ginger (1kg)\": 3\n",
    "}"
   ]
  },
  {
   "cell_type": "code",
   "execution_count": 98,
   "id": "040fee08-e0f0-4b6a-9404-1da23afaa119",
   "metadata": {},
   "outputs": [],
   "source": [
    "Local_Bill = 0.0\n",
    "\n",
    "def Item_Sel():\n",
    "    while True:\n",
    "        global Local_Bill\n",
    "        print (\"Available Items: \")\n",
    "        for item,grocery in grocery_items.items():\n",
    "             print(f\"{item}: {grocery:.2f} $\" )\n",
    "                \n",
    "        item = input(\"\\n Enter the Item Name (or done to exit): \").strip().lower()\n",
    "\n",
    "        if item == 'done'.lower():\n",
    "            break\n",
    "\n",
    "        \n",
    "        matches = [k for k in grocery_items if item in k.lower()]\n",
    "    \n",
    "        if len(matches) == 1:\n",
    "           original_item_name = matches[0]\n",
    "            \n",
    "           try:\n",
    "               qty= int(input(\"Enter the Quantity: \"))\n",
    "               unit_price = grocery_items[original_item_name]\n",
    "               price = unit_price * qty\n",
    "               cart.append((original_item_name, qty, unit_price, price))\n",
    "               Local_Bill += price\n",
    "               print(f\"\\n {qty} of {item} added to the cart, subtotal ${Local_Bill: .2f}\")\n",
    "           except ValueError:\n",
    "                 print(\"Enter a valid quantity number\")\n",
    "        elif len(matches) > 1:\n",
    "            print(\"Multiple Items matched your input, please be more specific\")\n",
    "            for m in matches:\n",
    "                print(f\"- {m}\")\n",
    "        else:\n",
    "          print(\"Item Not available in Store\")\n",
    "    "
   ]
  },
  {
   "cell_type": "code",
   "execution_count": 99,
   "id": "cfa803fa-7a12-4953-828b-29bfaf8e81a6",
   "metadata": {},
   "outputs": [],
   "source": [
    "def sub_tot():\n",
    "        global Local_Bill\n",
    "        tax = Local_Bill * 0.05\n",
    "        print(\"\\n--- Current Bill ---\")\n",
    "        for item in cart:\n",
    "           print(f\"{item[0].title()} x{item[1]} @ ${item[2]:.2f} = ${item[3]:.2f}\")\n",
    "        print(f\"\\n Subtotal: ${Local_Bill:.2f}\")\n",
    "        print(f\"Tax: $ {tax:.2f}\")"
   ]
  },
  {
   "cell_type": "code",
   "execution_count": 100,
   "id": "af660e9a-afc3-49f0-ba11-f14c5e485cf2",
   "metadata": {},
   "outputs": [],
   "source": [
    "def tax_cal():\n",
    "    global Local_Bill\n",
    "    tax = Local_Bill * 0.05\n",
    "    total = Local_Bill + tax\n",
    "    print(f\"Total Tax: ${tax:.2f}\\n\")\n",
    "    print(f\"Total Including taxes: ${total:.2f}\")"
   ]
  },
  {
   "cell_type": "code",
   "execution_count": 101,
   "id": "b87fea0b-93ec-4272-9a48-403d73e28c67",
   "metadata": {},
   "outputs": [],
   "source": [
    "def reciep():\n",
    "    global Local_Bill\n",
    "    print(f\"\"\"\n",
    "    =========== Indian Spices =========\n",
    "    ============= Receipt =============\n",
    "Date:  {datetime.now().strftime('%d-%B-%Y %I:%M:%S %p')}\\n\n",
    "Items Purchased:\\n\"\"\")\n",
    "\n",
    "    for item in cart:\n",
    "        print(f\"{item[0].title()} x{item[1]} @ ${item[2]:.2f} = ${item[3]:.2f}\")\n",
    "    \n",
    "    tax = Local_Bill * 0.05\n",
    "    total = Local_Bill + tax\n",
    "    print(f\"No of Items: {len(cart)}\")\n",
    "    print(f\"\\n Total Tax: {tax:.2f}\")\n",
    "    print(f\"\\nTotal Including taxes: {total:.2f}\")\n",
    "    print(\"=====================================\")\n",
    "    print(\"=====================================\")"
   ]
  },
  {
   "cell_type": "code",
   "execution_count": null,
   "id": "6ad8eda8-1d07-45c4-b910-5f7742d7dc6a",
   "metadata": {},
   "outputs": [],
   "source": []
  },
  {
   "cell_type": "code",
   "execution_count": 102,
   "id": "900e67dc-0a15-404f-a7b7-fc812539d126",
   "metadata": {},
   "outputs": [],
   "source": [
    "def Reciept_down():\n",
    "    reciept = f\"\"\"\n",
    "=========== Indian Spices =========\n",
    "============= Receipt =============\n",
    "    Date:  {datetime.now().strftime('%d-%B-%Y %I:%M:%S %p')}\\n\n",
    "    Items Purchased:\\n\"\"\"\n",
    "\n",
    "    for item in cart:\n",
    "        reciept += f\"{item[0].title()} x{item[1]} @ ${item[2]:.2f} = ${item[3]:.2f}\\n\"\n",
    "\n",
    "    tax = Local_Bill * 0.05\n",
    "    total = Local_Bill + tax\n",
    "    reciept += f\"\\nSubtotal: ${Local_Bill:.2f}\\n\"\n",
    "    reciept += f\"Tax (5%): ${tax:.2f}\\n\"\n",
    "    reciept += f\"Total: ${total:.2f}\\n\"\n",
    "\n",
    "    reciept += \"======= Thank You! Visit again =======\\n\"\n",
    "    reciept += \"======================================\\n\"\n",
    "\n",
    "    filename = f\"receipt_{datetime.now().strftime('%d-%b-%Y_%I-%M-%S_%p')}.txt\"\n",
    "    with open(filename, 'w') as file:\n",
    "        file.write(reciept)\n",
    "        print(f\"Receipt saved as {filename}\")"
   ]
  },
  {
   "cell_type": "code",
   "execution_count": 103,
   "id": "0e96a1c4-56c6-4fbf-bc53-ef5b6e412fd0",
   "metadata": {},
   "outputs": [],
   "source": [
    "\n",
    "from datetime import datetime\n",
    "\n",
    "Local_Bill = 0.0\n",
    "\n",
    "def cart_add():\n",
    "    global Local_Bill\n",
    "    while True:\n",
    "        print (\n",
    "                '''\n",
    "                1. Add Item\n",
    "                2. View Bill\n",
    "                3. View Tax\n",
    "                4. Reciept\n",
    "                5. Download Reciept\n",
    "                6. Check Out\n",
    "                '''\n",
    "        )\n",
    "        try:\n",
    "            select_opt = int(input(\"Please select an Option: \"))\n",
    "            if select_opt == 1:\n",
    "                Item_Sel()\n",
    "            elif select_opt ==2:\n",
    "                sub_tot()\n",
    "            elif select_opt == 3:\n",
    "                tax_cal()\n",
    "            elif select_opt == 4:\n",
    "                reciep()\n",
    "            elif select_opt == 5:\n",
    "                Reciept_down()\n",
    "            elif select_opt == 6:\n",
    "                break\n",
    "            else:\n",
    "                print (\"Invalid option; please select an item from the store\")\n",
    "        except ValueError:\n",
    "            print(\"select an option from 1 to 6 offered by store\")"
   ]
  },
  {
   "cell_type": "code",
   "execution_count": 104,
   "id": "03725290-8631-44e5-a715-30d4bf9b305f",
   "metadata": {},
   "outputs": [
    {
     "name": "stdout",
     "output_type": "stream",
     "text": [
      "\n",
      "                1. Add Item\n",
      "                2. View Bill\n",
      "                3. View Tax\n",
      "                4. Reciept\n",
      "                5. Download Reciept\n",
      "                6. Check Out\n",
      "                \n"
     ]
    },
    {
     "name": "stdin",
     "output_type": "stream",
     "text": [
      "Please select an Option:  1\n"
     ]
    },
    {
     "name": "stdout",
     "output_type": "stream",
     "text": [
      "Available Items: \n",
      "rice (1kg): 6.00 $\n",
      "wheat flour (1kg): 5.00 $\n",
      "toor dal (1kg): 9.00 $\n",
      "moong dal (1kg): 10.00 $\n",
      "sugar (1kg): 4.00 $\n",
      "salt (1kg): 2.00 $\n",
      "turmeric powder (100g): 5.00 $\n",
      "red chilli powder (100g): 3.00 $\n",
      "coriander powder (100g): 8.00 $\n",
      "cooking oil (1L): 12.00 $\n",
      "milk (1L): 5.00 $\n",
      "curd (500g): 3.00 $\n",
      "tea powder (250g): 9.00 $\n",
      "coffee powder (200g): 14.00 $\n",
      "onions (1kg): 3.00 $\n",
      "potatoes (1kg): 5.00 $\n",
      "tomatoes (1kg): 3.00 $\n",
      "green chillies (100g): 5.00 $\n",
      "garlic (250g): 4.00 $\n",
      "ginger (250g): 3.00 $\n"
     ]
    },
    {
     "name": "stdin",
     "output_type": "stream",
     "text": [
      "\n",
      " Enter the Item Name:  rice\n",
      "Enter the Quantity in Kg's:  5\n"
     ]
    },
    {
     "name": "stdout",
     "output_type": "stream",
     "text": [
      "\n",
      " 5 of rice added to the cart, subtotal $ 30.00\n",
      "Available Items: \n",
      "rice (1kg): 6.00 $\n",
      "wheat flour (1kg): 5.00 $\n",
      "toor dal (1kg): 9.00 $\n",
      "moong dal (1kg): 10.00 $\n",
      "sugar (1kg): 4.00 $\n",
      "salt (1kg): 2.00 $\n",
      "turmeric powder (100g): 5.00 $\n",
      "red chilli powder (100g): 3.00 $\n",
      "coriander powder (100g): 8.00 $\n",
      "cooking oil (1L): 12.00 $\n",
      "milk (1L): 5.00 $\n",
      "curd (500g): 3.00 $\n",
      "tea powder (250g): 9.00 $\n",
      "coffee powder (200g): 14.00 $\n",
      "onions (1kg): 3.00 $\n",
      "potatoes (1kg): 5.00 $\n",
      "tomatoes (1kg): 3.00 $\n",
      "green chillies (100g): 5.00 $\n",
      "garlic (250g): 4.00 $\n",
      "ginger (250g): 3.00 $\n"
     ]
    },
    {
     "name": "stdin",
     "output_type": "stream",
     "text": [
      "\n",
      " Enter the Item Name:  wheat\n",
      "Enter the Quantity in Kg's:  5\n"
     ]
    },
    {
     "name": "stdout",
     "output_type": "stream",
     "text": [
      "\n",
      " 5 of wheat added to the cart, subtotal $ 55.00\n",
      "Available Items: \n",
      "rice (1kg): 6.00 $\n",
      "wheat flour (1kg): 5.00 $\n",
      "toor dal (1kg): 9.00 $\n",
      "moong dal (1kg): 10.00 $\n",
      "sugar (1kg): 4.00 $\n",
      "salt (1kg): 2.00 $\n",
      "turmeric powder (100g): 5.00 $\n",
      "red chilli powder (100g): 3.00 $\n",
      "coriander powder (100g): 8.00 $\n",
      "cooking oil (1L): 12.00 $\n",
      "milk (1L): 5.00 $\n",
      "curd (500g): 3.00 $\n",
      "tea powder (250g): 9.00 $\n",
      "coffee powder (200g): 14.00 $\n",
      "onions (1kg): 3.00 $\n",
      "potatoes (1kg): 5.00 $\n",
      "tomatoes (1kg): 3.00 $\n",
      "green chillies (100g): 5.00 $\n",
      "garlic (250g): 4.00 $\n",
      "ginger (250g): 3.00 $\n"
     ]
    },
    {
     "name": "stdin",
     "output_type": "stream",
     "text": [
      "\n",
      " Enter the Item Name:  oil\n",
      "Enter the Quantity in Kg's:  3\n"
     ]
    },
    {
     "name": "stdout",
     "output_type": "stream",
     "text": [
      "\n",
      " 3 of oil added to the cart, subtotal $ 91.00\n",
      "Available Items: \n",
      "rice (1kg): 6.00 $\n",
      "wheat flour (1kg): 5.00 $\n",
      "toor dal (1kg): 9.00 $\n",
      "moong dal (1kg): 10.00 $\n",
      "sugar (1kg): 4.00 $\n",
      "salt (1kg): 2.00 $\n",
      "turmeric powder (100g): 5.00 $\n",
      "red chilli powder (100g): 3.00 $\n",
      "coriander powder (100g): 8.00 $\n",
      "cooking oil (1L): 12.00 $\n",
      "milk (1L): 5.00 $\n",
      "curd (500g): 3.00 $\n",
      "tea powder (250g): 9.00 $\n",
      "coffee powder (200g): 14.00 $\n",
      "onions (1kg): 3.00 $\n",
      "potatoes (1kg): 5.00 $\n",
      "tomatoes (1kg): 3.00 $\n",
      "green chillies (100g): 5.00 $\n",
      "garlic (250g): 4.00 $\n",
      "ginger (250g): 3.00 $\n"
     ]
    },
    {
     "name": "stdin",
     "output_type": "stream",
     "text": [
      "\n",
      " Enter the Item Name:  tea\n",
      "Enter the Quantity in Kg's:  3\n"
     ]
    },
    {
     "name": "stdout",
     "output_type": "stream",
     "text": [
      "\n",
      " 3 of tea added to the cart, subtotal $ 118.00\n",
      "Available Items: \n",
      "rice (1kg): 6.00 $\n",
      "wheat flour (1kg): 5.00 $\n",
      "toor dal (1kg): 9.00 $\n",
      "moong dal (1kg): 10.00 $\n",
      "sugar (1kg): 4.00 $\n",
      "salt (1kg): 2.00 $\n",
      "turmeric powder (100g): 5.00 $\n",
      "red chilli powder (100g): 3.00 $\n",
      "coriander powder (100g): 8.00 $\n",
      "cooking oil (1L): 12.00 $\n",
      "milk (1L): 5.00 $\n",
      "curd (500g): 3.00 $\n",
      "tea powder (250g): 9.00 $\n",
      "coffee powder (200g): 14.00 $\n",
      "onions (1kg): 3.00 $\n",
      "potatoes (1kg): 5.00 $\n",
      "tomatoes (1kg): 3.00 $\n",
      "green chillies (100g): 5.00 $\n",
      "garlic (250g): 4.00 $\n",
      "ginger (250g): 3.00 $\n"
     ]
    },
    {
     "name": "stdin",
     "output_type": "stream",
     "text": [
      "\n",
      " Enter the Item Name:  done\n"
     ]
    },
    {
     "name": "stdout",
     "output_type": "stream",
     "text": [
      "\n",
      "                1. Add Item\n",
      "                2. View Bill\n",
      "                3. View Tax\n",
      "                4. Reciept\n",
      "                5. Download Reciept\n",
      "                6. Check Out\n",
      "                \n"
     ]
    },
    {
     "name": "stdin",
     "output_type": "stream",
     "text": [
      "Please select an Option:  2\n"
     ]
    },
    {
     "name": "stdout",
     "output_type": "stream",
     "text": [
      "\n",
      "--- Current Bill ---\n",
      "Rice (1Kg) x5 @ $6.00 = $30.00\n",
      "Wheat Flour (1Kg) x5 @ $5.00 = $25.00\n",
      "Cooking Oil (1L) x3 @ $12.00 = $36.00\n",
      "Tea Powder (250G) x3 @ $9.00 = $27.00\n",
      "\n",
      " Subtotal: $118.00\n",
      "Tax: $ 5.90\n",
      "\n",
      "                1. Add Item\n",
      "                2. View Bill\n",
      "                3. View Tax\n",
      "                4. Reciept\n",
      "                5. Download Reciept\n",
      "                6. Check Out\n",
      "                \n"
     ]
    },
    {
     "name": "stdin",
     "output_type": "stream",
     "text": [
      "Please select an Option:  3\n"
     ]
    },
    {
     "name": "stdout",
     "output_type": "stream",
     "text": [
      "Total Tax: $5.90\n",
      "\n",
      "Total Including taxes: $123.90\n",
      "\n",
      "                1. Add Item\n",
      "                2. View Bill\n",
      "                3. View Tax\n",
      "                4. Reciept\n",
      "                5. Download Reciept\n",
      "                6. Check Out\n",
      "                \n"
     ]
    },
    {
     "name": "stdin",
     "output_type": "stream",
     "text": [
      "Please select an Option:  4\n"
     ]
    },
    {
     "name": "stdout",
     "output_type": "stream",
     "text": [
      "\n",
      "    =========== Indian Spices =========\n",
      "    ============= Receipt =============\n",
      "Date:  17-June-2025 10:39:10 AM\n",
      "\n",
      "Items Purchased:\n",
      "\n",
      "Rice (1Kg) x5 @ $6.00 = $30.00\n",
      "Wheat Flour (1Kg) x5 @ $5.00 = $25.00\n",
      "Cooking Oil (1L) x3 @ $12.00 = $36.00\n",
      "Tea Powder (250G) x3 @ $9.00 = $27.00\n",
      "No of Items: 4\n",
      "\n",
      " Total Tax: 5.90\n",
      "\n",
      "Total Including taxes: 123.90\n",
      "=====================================\n",
      "=====================================\n",
      "\n",
      "                1. Add Item\n",
      "                2. View Bill\n",
      "                3. View Tax\n",
      "                4. Reciept\n",
      "                5. Download Reciept\n",
      "                6. Check Out\n",
      "                \n"
     ]
    },
    {
     "name": "stdin",
     "output_type": "stream",
     "text": [
      "Please select an Option:  6\n"
     ]
    }
   ],
   "source": [
    "cart_add()"
   ]
  },
  {
   "cell_type": "code",
   "execution_count": null,
   "id": "b2f79d97-099a-4bc5-8533-af1e6d14d47f",
   "metadata": {},
   "outputs": [],
   "source": []
  },
  {
   "cell_type": "code",
   "execution_count": null,
   "id": "2d4bd857-b0b1-4177-adea-b6226eeb306d",
   "metadata": {},
   "outputs": [],
   "source": []
  }
 ],
 "metadata": {
  "kernelspec": {
   "display_name": "Python [conda env:base] *",
   "language": "python",
   "name": "conda-base-py"
  },
  "language_info": {
   "codemirror_mode": {
    "name": "ipython",
    "version": 3
   },
   "file_extension": ".py",
   "mimetype": "text/x-python",
   "name": "python",
   "nbconvert_exporter": "python",
   "pygments_lexer": "ipython3",
   "version": "3.12.7"
  }
 },
 "nbformat": 4,
 "nbformat_minor": 5
}
